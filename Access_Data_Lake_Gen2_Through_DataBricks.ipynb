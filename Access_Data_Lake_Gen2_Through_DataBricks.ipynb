{
 "cells": [
  {
   "cell_type": "markdown",
   "metadata": {
    "application/vnd.databricks.v1+cell": {
     "cellMetadata": {
      "byteLimit": 2048000,
      "rowLimit": 10000
     },
     "inputWidgets": {},
     "nuid": "be0cf50e-8a0b-4e67-a36c-aba38fd9c384",
     "showTitle": false,
     "title": ""
    }
   },
   "source": [
    "## Access Data Lake Gen2 Through Access Key & SAS Token"
   ]
  },
  {
   "cell_type": "code",
   "execution_count": 0,
   "metadata": {
    "application/vnd.databricks.v1+cell": {
     "cellMetadata": {
      "byteLimit": 2048000,
      "rowLimit": 10000
     },
     "inputWidgets": {},
     "nuid": "4bac9c58-b6af-4fbe-bf36-2783066765ab",
     "showTitle": false,
     "title": ""
    }
   },
   "outputs": [],
   "source": [
    "from pyspark.sql import SparkSession\n",
    "from pyspark.sql import DataFrame\n",
    "\n",
    "class SparkDataLoader:\n",
    "\n",
    "    \"\"\"\n",
    "    A class to handle configuration and data operations for Azure Storage Account.\n",
    "\n",
    "    Parameters:\n",
    "        spark (SparkSession): The SparkSession object.\n",
    "        storage_account_name (str): The name of the Azure Storage Account.\n",
    "        token_type (str): The type of token ('access' for Access Key or 'sas' for SAS Token).\n",
    "        token (str): The Access Key or SAS Token for authentication.\n",
    "    \"\"\"\n",
    "    def __init__(self, spark: SparkSession, storage_account_name: str, token_type: str, token: str):\n",
    "        self.spark = spark\n",
    "        self.storage_account_name = storage_account_name\n",
    "        self.token_type = token_type\n",
    "        self.token = token\n",
    "\n",
    "    def set_config(self):\n",
    "\n",
    "        \"\"\"\n",
    "        Sets the configuration for Azure Storage Account based on the provided token type and token.\n",
    "\n",
    "        Raises:\n",
    "            ValueError: If the token_type is invalid. It should be either 'access' or 'sas'.\n",
    "        \"\"\"\n",
    "        if self.token_type == \"access\":\n",
    "            fs_key = f\"fs.azure.account.key.{self.storage_account_name}.dfs.core.windows.net\"\n",
    "            self.spark.conf.set(fs_key, self.token)\n",
    "        elif self.token_type == \"sas\":\n",
    "            fs_auth_type_key = f\"fs.azure.account.auth.type.{self.storage_account_name}.dfs.core.windows.net\"\n",
    "            fs_sas_provider_key = f\"fs.azure.sas.token.provider.type.{self.storage_account_name}.dfs.core.windows.net\"\n",
    "            fs_sas_token_key = f\"fs.azure.sas.fixed.token.{self.storage_account_name}.dfs.core.windows.net\"\n",
    "            \n",
    "            self.spark.conf.set(fs_auth_type_key, \"SAS\")\n",
    "            self.spark.conf.set(fs_sas_provider_key, \"org.apache.hadoop.fs.azurebfs.sas.FixedSASTokenProvider\")\n",
    "            self.spark.conf.set(fs_sas_token_key, self.token)\n",
    "        else:\n",
    "            raise ValueError(\"Invalid token_type. Use 'access' or 'sas'.\")\n",
    "\n",
    "    def list_files(self, path: str):\n",
    "\n",
    "        \"\"\"\n",
    "        Lists the files in the specified path.\n",
    "\n",
    "        Parameters:\n",
    "            path (str): The path to the Azure Storage Account container or directory.\n",
    "\n",
    "        Returns:\n",
    "            List: A list of file paths.\n",
    "        \"\"\"\n",
    "\n",
    "        return dbutils.fs.ls(path)\n",
    "\n",
    "    def display_files(self, path: str):\n",
    "        \n",
    "        \"\"\"\n",
    "        Displays the files in the specified path.\n",
    "\n",
    "        Parameters:\n",
    "            path (str): The path to the Azure Storage Account container or directory.\n",
    "        \"\"\"\n",
    "\n",
    "        file_list = self.list_files(path)\n",
    "        for file in file_list:\n",
    "            print(file.path)\n",
    "\n",
    "    def read_csv(self, path: str, header: bool = True) -> DataFrame:\n",
    "\n",
    "        \"\"\"\n",
    "        Reads a CSV file from the specified path.\n",
    "\n",
    "        Parameters:\n",
    "            path (str): The path to the CSV file in Azure Storage Account.\n",
    "            header (bool, optional): Whether the CSV file has a header row. Defaults to True.\n",
    "\n",
    "        Returns:\n",
    "            DataFrame: The DataFrame containing the CSV data.\n",
    "        \"\"\"\n",
    "\n",
    "        return self.spark.read.csv(path, header=header)\n"
   ]
  },
  {
   "cell_type": "code",
   "execution_count": 0,
   "metadata": {
    "application/vnd.databricks.v1+cell": {
     "cellMetadata": {
      "byteLimit": 2048000,
      "rowLimit": 10000
     },
     "inputWidgets": {},
     "nuid": "355ce505-2ca6-4d2d-a89f-3ebbe22ab1b6",
     "showTitle": false,
     "title": ""
    }
   },
   "outputs": [],
   "source": [
    "spark = SparkSession.builder.appName(\"AccessDataLakeGen2\").getOrCreate()\n",
    "storage_account_name = \"xxxxxxxxxxxxxxx\"\n",
    "file_name = 'xxxxxxxxxxxxxxxxxxx.csv'"
   ]
  },
  {
   "cell_type": "markdown",
   "metadata": {
    "application/vnd.databricks.v1+cell": {
     "cellMetadata": {
      "byteLimit": 2048000,
      "rowLimit": 10000
     },
     "inputWidgets": {},
     "nuid": "f17ce59d-e74a-47ac-a82b-f669b50afb6e",
     "showTitle": false,
     "title": ""
    }
   },
   "source": [
    "## Access Data Lake Gen2 Through Access Key"
   ]
  },
  {
   "cell_type": "code",
   "execution_count": 0,
   "metadata": {
    "application/vnd.databricks.v1+cell": {
     "cellMetadata": {
      "byteLimit": 2048000,
      "rowLimit": 10000
     },
     "inputWidgets": {},
     "nuid": "a853b7d8-a597-4309-a047-40a7cf8ed01f",
     "showTitle": false,
     "title": ""
    }
   },
   "outputs": [
    {
     "output_type": "stream",
     "name": "stdout",
     "output_type": "stream",
     "text": [
      "+------+--------------+----------+----------+--------------+-----------+------------------+-----------+-------------+---------------+--------------+-----------+-------+---------------+---------------+------------+--------------------+--------+--------+--------+--------+\n|Row ID|      Order ID|Order Date| Ship Date|     Ship Mode|Customer ID|     Customer Name|    Segment|      Country|           City|         State|Postal Code| Region|     Product ID|       Category|Sub-Category|        Product Name|   Sales|Quantity|Discount|  Profit|\n+------+--------------+----------+----------+--------------+-----------+------------------+-----------+-------------+---------------+--------------+-----------+-------+---------------+---------------+------------+--------------------+--------+--------+--------+--------+\n|     1|CA-2016-152156|08-11-2016|11-11-2016|  Second Class|   CG-12520|       Claire Gute|   Consumer|United States|      Henderson|      Kentucky|      42420|  South|FUR-BO-10001798|      Furniture|   Bookcases|Bush Somerset Col...|  261.96|       2|       0| 41.9136|\n|     2|CA-2016-152156|08-11-2016|11-11-2016|  Second Class|   CG-12520|       Claire Gute|   Consumer|United States|      Henderson|      Kentucky|      42420|  South|FUR-CH-10000454|      Furniture|      Chairs|Hon Deluxe Fabric...|  731.94|       3|       0| 219.582|\n|     3|CA-2016-138688|12-06-2016|16-06-2016|  Second Class|   DV-13045|   Darrin Van Huff|  Corporate|United States|    Los Angeles|    California|      90036|   West|OFF-LA-10000240|Office Supplies|      Labels|Self-Adhesive Add...|   14.62|       2|       0|  6.8714|\n|     4|US-2015-108966|11-10-2015|18-10-2015|Standard Class|   SO-20335|    Sean O'Donnell|   Consumer|United States|Fort Lauderdale|       Florida|      33311|  South|FUR-TA-10000577|      Furniture|      Tables|Bretford CR4500 S...|957.5775|       5|    0.45|-383.031|\n|     5|US-2015-108966|11-10-2015|18-10-2015|Standard Class|   SO-20335|    Sean O'Donnell|   Consumer|United States|Fort Lauderdale|       Florida|      33311|  South|OFF-ST-10000760|Office Supplies|     Storage|Eldon Fold 'N Rol...|  22.368|       2|     0.2|  2.5164|\n|     6|CA-2014-115812|09-06-2014|14-06-2014|Standard Class|   BH-11710|   Brosina Hoffman|   Consumer|United States|    Los Angeles|    California|      90032|   West|FUR-FU-10001487|      Furniture| Furnishings|Eldon Expressions...|   48.86|       7|       0| 14.1694|\n|     7|CA-2014-115812|09-06-2014|14-06-2014|Standard Class|   BH-11710|   Brosina Hoffman|   Consumer|United States|    Los Angeles|    California|      90032|   West|OFF-AR-10002833|Office Supplies|         Art|          Newell 322|    7.28|       4|       0|  1.9656|\n|     8|CA-2014-115812|09-06-2014|14-06-2014|Standard Class|   BH-11710|   Brosina Hoffman|   Consumer|United States|    Los Angeles|    California|      90032|   West|TEC-PH-10002275|     Technology|      Phones|Mitel 5320 IP Pho...| 907.152|       6|     0.2| 90.7152|\n|     9|CA-2014-115812|09-06-2014|14-06-2014|Standard Class|   BH-11710|   Brosina Hoffman|   Consumer|United States|    Los Angeles|    California|      90032|   West|OFF-BI-10003910|Office Supplies|     Binders|DXL Angle-View Bi...|  18.504|       3|     0.2|  5.7825|\n|    10|CA-2014-115812|09-06-2014|14-06-2014|Standard Class|   BH-11710|   Brosina Hoffman|   Consumer|United States|    Los Angeles|    California|      90032|   West|OFF-AP-10002892|Office Supplies|  Appliances|Belkin F5C206VTEL...|   114.9|       5|       0|   34.47|\n|    11|CA-2014-115812|09-06-2014|14-06-2014|Standard Class|   BH-11710|   Brosina Hoffman|   Consumer|United States|    Los Angeles|    California|      90032|   West|FUR-TA-10001539|      Furniture|      Tables|Chromcraft Rectan...|1706.184|       9|     0.2| 85.3092|\n|    12|CA-2014-115812|09-06-2014|14-06-2014|Standard Class|   BH-11710|   Brosina Hoffman|   Consumer|United States|    Los Angeles|    California|      90032|   West|TEC-PH-10002033|     Technology|      Phones|Konftel 250 Confe...| 911.424|       4|     0.2| 68.3568|\n|    13|CA-2017-114412|15-04-2017|20-04-2017|Standard Class|   AA-10480|      Andrew Allen|   Consumer|United States|        Concord|North Carolina|      28027|  South|OFF-PA-10002365|Office Supplies|       Paper|          Xerox 1967|  15.552|       3|     0.2|  5.4432|\n|    14|CA-2016-161389|05-12-2016|10-12-2016|Standard Class|   IM-15070|      Irene Maddox|   Consumer|United States|        Seattle|    Washington|      98103|   West|OFF-BI-10003656|Office Supplies|     Binders|Fellowes PB200 Pl...| 407.976|       3|     0.2|132.5922|\n|    15|US-2015-118983|22-11-2015|26-11-2015|Standard Class|   HP-14815|     Harold Pawlan|Home Office|United States|     Fort Worth|         Texas|      76106|Central|OFF-AP-10002311|Office Supplies|  Appliances|Holmes Replacemen...|   68.81|       5|     0.8|-123.858|\n|    16|US-2015-118983|22-11-2015|26-11-2015|Standard Class|   HP-14815|     Harold Pawlan|Home Office|United States|     Fort Worth|         Texas|      76106|Central|OFF-BI-10000756|Office Supplies|     Binders|Storex DuraTech R...|   2.544|       3|     0.8|  -3.816|\n|    17|CA-2014-105893|11-11-2014|18-11-2014|Standard Class|   PK-19075|         Pete Kriz|   Consumer|United States|        Madison|     Wisconsin|      53711|Central|OFF-ST-10004186|Office Supplies|     Storage|\"Stur-D-Stor Shel...|  665.88|       6|       0| 13.3176|\n|    18|CA-2014-167164|13-05-2014|15-05-2014|  Second Class|   AG-10270|   Alejandro Grove|   Consumer|United States|    West Jordan|          Utah|      84084|   West|OFF-ST-10000107|Office Supplies|     Storage|Fellowes Super St...|    55.5|       2|       0|    9.99|\n|    19|CA-2014-143336|27-08-2014|01-09-2014|  Second Class|   ZD-21925|Zuschuss Donatelli|   Consumer|United States|  San Francisco|    California|      94109|   West|OFF-AR-10003056|Office Supplies|         Art|          Newell 341|    8.56|       2|       0|  2.4824|\n|    20|CA-2014-143336|27-08-2014|01-09-2014|  Second Class|   ZD-21925|Zuschuss Donatelli|   Consumer|United States|  San Francisco|    California|      94109|   West|TEC-PH-10001949|     Technology|      Phones|Cisco SPA 501G IP...|  213.48|       3|     0.2|  16.011|\n+------+--------------+----------+----------+--------------+-----------+------------------+-----------+-------------+---------------+--------------+-----------+-------+---------------+---------------+------------+--------------------+--------+--------+--------+--------+\nonly showing top 20 rows\n\n"
     ]
    }
   ],
   "source": [
    "class AccessTokenHandler:\n",
    "\n",
    "    \"\"\"\n",
    "    A class to handle Access Token configuration and data operations.\n",
    "\n",
    "    Parameters:\n",
    "        spark (SparkSession): The SparkSession object.\n",
    "        storage_account_name (str): The name of the Azure Storage Account.\n",
    "        access_key (str): The Access Key for authentication.\n",
    "    \"\"\"\n",
    "    \n",
    "    def __init__(self, spark: SparkSession, storage_account_name: str, access_key: str):\n",
    "        self.data_handler = SparkDataLoader(spark, storage_account_name, \"access\", access_key)\n",
    "\n",
    "    def execute(self):\n",
    "\n",
    "        \"\"\"\n",
    "        Executes the Access Token configuration and performs data operations.\n",
    "        \"\"\"\n",
    "\n",
    "        self.data_handler.set_config()\n",
    "        df_access = self.data_handler.read_csv(f\"abfss://demo@encstorageacc97.dfs.core.windows.net/{file_name}\", header=True)\n",
    "        df_access.show()\n",
    "\n",
    "# Access Token Configuration\n",
    "access_key = dbutils.secrets.get(scope=\"EncSecretScope\", key=\"EncStorageAccessKey\")\n",
    "access_token_handler = AccessTokenHandler(spark, storage_account_name, access_key)\n",
    "display(access_token_handler.execute())\n"
   ]
  },
  {
   "cell_type": "markdown",
   "metadata": {
    "application/vnd.databricks.v1+cell": {
     "cellMetadata": {
      "byteLimit": 2048000,
      "rowLimit": 10000
     },
     "inputWidgets": {},
     "nuid": "f8206cfb-fb13-4852-8a1d-0b1e593fcefe",
     "showTitle": false,
     "title": ""
    }
   },
   "source": [
    "## Access Data Lake Gen2 Through SAS Token"
   ]
  },
  {
   "cell_type": "code",
   "execution_count": 0,
   "metadata": {
    "application/vnd.databricks.v1+cell": {
     "cellMetadata": {
      "byteLimit": 2048000,
      "rowLimit": 10000
     },
     "inputWidgets": {},
     "nuid": "a8f6af7a-4eee-42cd-a170-60bbe0ffa0c0",
     "showTitle": false,
     "title": ""
    }
   },
   "outputs": [
    {
     "output_type": "stream",
     "name": "stdout",
     "output_type": "stream",
     "text": [
      "+------+--------------+----------+----------+--------------+-----------+------------------+-----------+-------------+---------------+--------------+-----------+-------+---------------+---------------+------------+--------------------+--------+--------+--------+--------+\n|Row ID|      Order ID|Order Date| Ship Date|     Ship Mode|Customer ID|     Customer Name|    Segment|      Country|           City|         State|Postal Code| Region|     Product ID|       Category|Sub-Category|        Product Name|   Sales|Quantity|Discount|  Profit|\n+------+--------------+----------+----------+--------------+-----------+------------------+-----------+-------------+---------------+--------------+-----------+-------+---------------+---------------+------------+--------------------+--------+--------+--------+--------+\n|     1|CA-2016-152156|08-11-2016|11-11-2016|  Second Class|   CG-12520|       Claire Gute|   Consumer|United States|      Henderson|      Kentucky|      42420|  South|FUR-BO-10001798|      Furniture|   Bookcases|Bush Somerset Col...|  261.96|       2|       0| 41.9136|\n|     2|CA-2016-152156|08-11-2016|11-11-2016|  Second Class|   CG-12520|       Claire Gute|   Consumer|United States|      Henderson|      Kentucky|      42420|  South|FUR-CH-10000454|      Furniture|      Chairs|Hon Deluxe Fabric...|  731.94|       3|       0| 219.582|\n|     3|CA-2016-138688|12-06-2016|16-06-2016|  Second Class|   DV-13045|   Darrin Van Huff|  Corporate|United States|    Los Angeles|    California|      90036|   West|OFF-LA-10000240|Office Supplies|      Labels|Self-Adhesive Add...|   14.62|       2|       0|  6.8714|\n|     4|US-2015-108966|11-10-2015|18-10-2015|Standard Class|   SO-20335|    Sean O'Donnell|   Consumer|United States|Fort Lauderdale|       Florida|      33311|  South|FUR-TA-10000577|      Furniture|      Tables|Bretford CR4500 S...|957.5775|       5|    0.45|-383.031|\n|     5|US-2015-108966|11-10-2015|18-10-2015|Standard Class|   SO-20335|    Sean O'Donnell|   Consumer|United States|Fort Lauderdale|       Florida|      33311|  South|OFF-ST-10000760|Office Supplies|     Storage|Eldon Fold 'N Rol...|  22.368|       2|     0.2|  2.5164|\n|     6|CA-2014-115812|09-06-2014|14-06-2014|Standard Class|   BH-11710|   Brosina Hoffman|   Consumer|United States|    Los Angeles|    California|      90032|   West|FUR-FU-10001487|      Furniture| Furnishings|Eldon Expressions...|   48.86|       7|       0| 14.1694|\n|     7|CA-2014-115812|09-06-2014|14-06-2014|Standard Class|   BH-11710|   Brosina Hoffman|   Consumer|United States|    Los Angeles|    California|      90032|   West|OFF-AR-10002833|Office Supplies|         Art|          Newell 322|    7.28|       4|       0|  1.9656|\n|     8|CA-2014-115812|09-06-2014|14-06-2014|Standard Class|   BH-11710|   Brosina Hoffman|   Consumer|United States|    Los Angeles|    California|      90032|   West|TEC-PH-10002275|     Technology|      Phones|Mitel 5320 IP Pho...| 907.152|       6|     0.2| 90.7152|\n|     9|CA-2014-115812|09-06-2014|14-06-2014|Standard Class|   BH-11710|   Brosina Hoffman|   Consumer|United States|    Los Angeles|    California|      90032|   West|OFF-BI-10003910|Office Supplies|     Binders|DXL Angle-View Bi...|  18.504|       3|     0.2|  5.7825|\n|    10|CA-2014-115812|09-06-2014|14-06-2014|Standard Class|   BH-11710|   Brosina Hoffman|   Consumer|United States|    Los Angeles|    California|      90032|   West|OFF-AP-10002892|Office Supplies|  Appliances|Belkin F5C206VTEL...|   114.9|       5|       0|   34.47|\n|    11|CA-2014-115812|09-06-2014|14-06-2014|Standard Class|   BH-11710|   Brosina Hoffman|   Consumer|United States|    Los Angeles|    California|      90032|   West|FUR-TA-10001539|      Furniture|      Tables|Chromcraft Rectan...|1706.184|       9|     0.2| 85.3092|\n|    12|CA-2014-115812|09-06-2014|14-06-2014|Standard Class|   BH-11710|   Brosina Hoffman|   Consumer|United States|    Los Angeles|    California|      90032|   West|TEC-PH-10002033|     Technology|      Phones|Konftel 250 Confe...| 911.424|       4|     0.2| 68.3568|\n|    13|CA-2017-114412|15-04-2017|20-04-2017|Standard Class|   AA-10480|      Andrew Allen|   Consumer|United States|        Concord|North Carolina|      28027|  South|OFF-PA-10002365|Office Supplies|       Paper|          Xerox 1967|  15.552|       3|     0.2|  5.4432|\n|    14|CA-2016-161389|05-12-2016|10-12-2016|Standard Class|   IM-15070|      Irene Maddox|   Consumer|United States|        Seattle|    Washington|      98103|   West|OFF-BI-10003656|Office Supplies|     Binders|Fellowes PB200 Pl...| 407.976|       3|     0.2|132.5922|\n|    15|US-2015-118983|22-11-2015|26-11-2015|Standard Class|   HP-14815|     Harold Pawlan|Home Office|United States|     Fort Worth|         Texas|      76106|Central|OFF-AP-10002311|Office Supplies|  Appliances|Holmes Replacemen...|   68.81|       5|     0.8|-123.858|\n|    16|US-2015-118983|22-11-2015|26-11-2015|Standard Class|   HP-14815|     Harold Pawlan|Home Office|United States|     Fort Worth|         Texas|      76106|Central|OFF-BI-10000756|Office Supplies|     Binders|Storex DuraTech R...|   2.544|       3|     0.8|  -3.816|\n|    17|CA-2014-105893|11-11-2014|18-11-2014|Standard Class|   PK-19075|         Pete Kriz|   Consumer|United States|        Madison|     Wisconsin|      53711|Central|OFF-ST-10004186|Office Supplies|     Storage|\"Stur-D-Stor Shel...|  665.88|       6|       0| 13.3176|\n|    18|CA-2014-167164|13-05-2014|15-05-2014|  Second Class|   AG-10270|   Alejandro Grove|   Consumer|United States|    West Jordan|          Utah|      84084|   West|OFF-ST-10000107|Office Supplies|     Storage|Fellowes Super St...|    55.5|       2|       0|    9.99|\n|    19|CA-2014-143336|27-08-2014|01-09-2014|  Second Class|   ZD-21925|Zuschuss Donatelli|   Consumer|United States|  San Francisco|    California|      94109|   West|OFF-AR-10003056|Office Supplies|         Art|          Newell 341|    8.56|       2|       0|  2.4824|\n|    20|CA-2014-143336|27-08-2014|01-09-2014|  Second Class|   ZD-21925|Zuschuss Donatelli|   Consumer|United States|  San Francisco|    California|      94109|   West|TEC-PH-10001949|     Technology|      Phones|Cisco SPA 501G IP...|  213.48|       3|     0.2|  16.011|\n+------+--------------+----------+----------+--------------+-----------+------------------+-----------+-------------+---------------+--------------+-----------+-------+---------------+---------------+------------+--------------------+--------+--------+--------+--------+\nonly showing top 20 rows\n\n"
     ]
    }
   ],
   "source": [
    "\n",
    "class SASTokenHandler:\n",
    "\n",
    "    \"\"\"\n",
    "    A class to handle SAS Token configuration and data operations.\n",
    "\n",
    "    Parameters:\n",
    "        spark (SparkSession): The SparkSession object.\n",
    "        storage_account_name (str): The name of the Azure Storage Account.\n",
    "        sas_token (str): The SAS Token for authentication.\n",
    "    \"\"\"\n",
    "\n",
    "    def __init__(self, spark: SparkSession, storage_account_name: str, sas_token: str):\n",
    "        self.data_handler = SparkDataLoader(spark, storage_account_name, \"sas\", sas_token)\n",
    "\n",
    "    def execute(self):\n",
    "        \"\"\"\n",
    "        Executes the SAS Token configuration and performs data operations.\n",
    "        \"\"\"\n",
    "        self.data_handler.set_config()\n",
    "        df_sas = self.data_handler.read_csv(f\"abfss://demo@encstorageacc97.dfs.core.windows.net/{file_name}\", header=True)\n",
    "        df_sas.show()\n",
    "\n",
    "\n",
    "# SAS Token Configuration\n",
    "sas_token = dbutils.secrets.get(scope=\"EncSecretScope\", key=\"EncStorageAccessSASToken\")\n",
    "sas_token_handler = SASTokenHandler(spark, storage_account_name, sas_token)\n",
    "sas_token_handler.execute()"
   ]
  },
  {
   "cell_type": "code",
   "execution_count": 0,
   "metadata": {
    "application/vnd.databricks.v1+cell": {
     "cellMetadata": {
      "byteLimit": 2048000,
      "rowLimit": 10000
     },
     "inputWidgets": {},
     "nuid": "b145ec37-3e02-4790-a10e-68e3e1ebbcb0",
     "showTitle": false,
     "title": ""
    }
   },
   "outputs": [],
   "source": []
  }
 ],
 "metadata": {
  "application/vnd.databricks.v1+notebook": {
   "dashboards": [],
   "language": "python",
   "notebookMetadata": {
    "pythonIndentUnit": 4
   },
   "notebookName": "Access_Data_Lake_Gen2_Through_DataBricks",
   "widgets": {}
  }
 },
 "nbformat": 4,
 "nbformat_minor": 0
}
